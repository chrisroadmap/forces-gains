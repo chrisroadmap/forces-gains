{
 "cells": [
  {
   "cell_type": "markdown",
   "id": "8b1f5308",
   "metadata": {},
   "source": [
    "# Compare emissions scenarios\n",
    "\n",
    "- Scenarios provided by Zig Klimont in email on 5 June 2023\n",
    "- the emissions differ substantially enough from CMIP6 historical to warrant a new calibration. However, will try and see if the scenarios look OK without calibration\n",
    "\n",
    "## 1990 emissions in GAINS v RCMIP5.1.0\n",
    "\n",
    "GAINS values are from Zig's table including int. shipping, aviation, soil NO, forest fires, savannah fires, peat fires. I have compared GAINS values to RCMIP values where the latter includes agricultural waste burning.\n",
    "\n",
    "Questions for Zig and Zeb:\n",
    "- is agricultural waste burning included in GAINS?\n",
    "- is soil NO included in RCMIP? (part of Agriculture, so it might be)\n",
    "\n",
    "### CH4\n",
    "- GAINS: 313.6 TgCH4/yr\n",
    "- RCMIP: 305.2 TgCH4/yr (but 1991 at 318.7)\n",
    "\n",
    "### NOx (after correction of biomass burning emissions)\n",
    "- GAINS: 134.9 TgNO2/yr\n",
    "- RCMIP: 132.5 TgNO2/yr\n",
    "\n",
    "### NMVOC\n",
    "Quite a bit out: could scale historical emissions to GAINS in 1990\n",
    "- GAINS: 190.7 Tg/yr\n",
    "- RCMIP: 203.0 Tg/yr\n",
    "\n",
    "### CO\n",
    "Quite a bit out: could scale historical emissions to GAINS in 1990\n",
    "- GAINS: 879.1 TgCO/yr\n",
    "- RCMIP: 940.6 TgCO/yr\n",
    "\n",
    "### CO2 fossil & industrial\n",
    "- GAINS: 22.936 GtCO2/yr\n",
    "- RCMIP: 22.671 GtCO2/yr\n",
    "\n",
    "## Treatment of aviation:\n",
    "- SSP2-4.5 in Baseline and MTFR\n",
    "- SSP1-2.6 in MTFR-Low"
   ]
  },
  {
   "cell_type": "code",
   "execution_count": null,
   "id": "04202e25",
   "metadata": {},
   "outputs": [],
   "source": [
    "import matplotlib.pyplot as pl\n",
    "import pandas as pd\n",
    "import numpy as np"
   ]
  },
  {
   "cell_type": "code",
   "execution_count": null,
   "id": "aa25e06e",
   "metadata": {},
   "outputs": [],
   "source": [
    "rcmip_df = pd.read_csv('../data_input/rcmip-emissions-historical-corrected-nox.csv', index_col=0)"
   ]
  },
  {
   "cell_type": "code",
   "execution_count": null,
   "id": "5dc992cf",
   "metadata": {},
   "outputs": [],
   "source": [
    "gains_baseline_df = pd.read_csv('../data_input/gains-baseline.csv', index_col=0)"
   ]
  },
  {
   "cell_type": "code",
   "execution_count": null,
   "id": "75a259d0",
   "metadata": {},
   "outputs": [],
   "source": [
    "pl.plot(np.arange(1980, 2015), rcmip_df.loc['CO2 FFI', '1980':'2014'], label=\"RCMIP\")\n",
    "pl.plot(np.arange(1990, 2016, 5), gains_baseline_df.loc['CO2 FFI', '1990':'2015'], label=\"GAINS\")\n",
    "pl.legend()"
   ]
  },
  {
   "cell_type": "code",
   "execution_count": null,
   "id": "0849db24",
   "metadata": {},
   "outputs": [],
   "source": [
    "pl.plot(np.arange(1980, 2015), rcmip_df.loc['CH4', '1980':'2014'], label=\"RCMIP\")\n",
    "pl.plot(np.arange(1990, 2016, 5), gains_baseline_df.loc['CH4', '1990':'2015'], label=\"GAINS\")\n",
    "pl.legend()"
   ]
  },
  {
   "cell_type": "code",
   "execution_count": null,
   "id": "80286588",
   "metadata": {},
   "outputs": [],
   "source": [
    "ratio = gains_baseline_df.loc['VOC', '1990'].mean()/rcmip_df.loc['VOC', '1990'].mean()\n",
    "pl.plot(np.arange(1980, 2015), rcmip_df.loc['VOC', '1980':'2014'], label=\"RCMIP\")# * ratio)\n",
    "pl.plot(np.arange(1990, 2016, 5), gains_baseline_df.loc['VOC', '1990':'2015'], label=\"GAINS\")\n",
    "pl.legend()"
   ]
  },
  {
   "cell_type": "code",
   "execution_count": null,
   "id": "98bd2ddc",
   "metadata": {},
   "outputs": [],
   "source": [
    "ratio = gains_baseline_df.loc['CO', '1990'].mean()/rcmip_df.loc['CO', '1990'].mean()\n",
    "pl.plot(np.arange(1980, 2015), rcmip_df.loc['CO', '1980':'2014'], label=\"RCMIP\")# * ratio)\n",
    "pl.plot(np.arange(1990, 2016, 5), gains_baseline_df.loc['CO', '1990':'2015'], label=\"GAINS\")\n",
    "pl.legend()"
   ]
  },
  {
   "cell_type": "code",
   "execution_count": null,
   "id": "7c7b87bf",
   "metadata": {},
   "outputs": [],
   "source": [
    "pl.plot(np.arange(1980, 2015), rcmip_df.loc['NOx', '1980':'2014'], label=\"RCMIP\")\n",
    "pl.plot(np.arange(1990, 2016, 5), gains_baseline_df.loc['NOx', '1990':'2015'], label=\"GAINS\")\n",
    "pl.legend()"
   ]
  },
  {
   "cell_type": "code",
   "execution_count": null,
   "id": "e14def4d",
   "metadata": {},
   "outputs": [],
   "source": []
  }
 ],
 "metadata": {
  "kernelspec": {
   "display_name": "Python 3 (ipykernel)",
   "language": "python",
   "name": "python3"
  },
  "language_info": {
   "codemirror_mode": {
    "name": "ipython",
    "version": 3
   },
   "file_extension": ".py",
   "mimetype": "text/x-python",
   "name": "python",
   "nbconvert_exporter": "python",
   "pygments_lexer": "ipython3",
   "version": "3.11.4"
  }
 },
 "nbformat": 4,
 "nbformat_minor": 5
}
